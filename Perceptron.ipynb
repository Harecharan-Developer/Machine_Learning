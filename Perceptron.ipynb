{
 "cells": [
  {
   "cell_type": "code",
   "execution_count": 7,
   "metadata": {},
   "outputs": [],
   "source": [
    "import numpy as np\n",
    "import pandas as pd\n",
    "from sklearn.metrics import accuracy_score"
   ]
  },
  {
   "cell_type": "code",
   "execution_count": 9,
   "metadata": {},
   "outputs": [],
   "source": [
    "class Perceptron:\n",
    "    def __init__(self,learning_rate,epochs):\n",
    "        self.weight=None\n",
    "        self.bias=None\n",
    "        self.learning_rate=learning_rate\n",
    "        self.epochs=epochs\n",
    "\n",
    "    def activation_step(self,z):\n",
    "        if z>0:\n",
    "            return 1\n",
    "        else:\n",
    "            return 0\n",
    "        # return np.heaviside(z,0)\n",
    "        # this basically means  that z>0 it returns 1 z<0 it returns 0 and returns the second parameter if it is equal to zero so we can \n",
    "        #  basically specify as parameter what to do if it is equal to zero\n",
    "    \n",
    "    def fit(self,X,y):\n",
    "        for epoch in range(self.epochs):\n",
    "            self.weight=np.zeros(X.shape[1])\n",
    "            self.bias=0\n",
    "            y_pred=0\n",
    "            for i in range(len(X)):\n",
    "                z = np.dot(X, self.weights) + self.bias # Finding the dot product and adding the bias\n",
    "                y_pred = self.activation(z) # Passing through an activation function\n",
    "                \n",
    "                #Updating weights and bias\n",
    "                self.weights = self.weights + self.learning_rate * (y[i] - y_pred[i]) * X[i]\n",
    "                self.bias = self.bias + self.learning_rate * (y[i] - y_pred[i])\n",
    "\n",
    "\n",
    "                # self.weight[i+1]=self.weight[i]+self.learning_rate*np.dot((y-y_pred),X[i])\n",
    "                # self.bias+=np.dot((y-y_pred),self.learning_rate)\n",
    "\n",
    "        return self.weights, self.bias\n",
    "    \n",
    "    def predict(self, X):\n",
    "        z = np.dot(X, self.weights) + self.bias\n",
    "        return self.activation(z)\n",
    "    def calculate_acc(self,X_test,Y_test):\n",
    "        y_pred_arr=[]\n",
    "        for i in X_test:\n",
    "            y_pred_arr.append(self.predict(i))\n",
    "        acc=accuracy_score(y,y_pred_arr)\n",
    "        \n",
    "\n"
   ]
  },
  {
   "cell_type": "code",
   "execution_count": null,
   "metadata": {},
   "outputs": [],
   "source": [
    "df=pd.read_csv()"
   ]
  }
 ],
 "metadata": {
  "kernelspec": {
   "display_name": "Python 3",
   "language": "python",
   "name": "python3"
  },
  "language_info": {
   "codemirror_mode": {
    "name": "ipython",
    "version": 3
   },
   "file_extension": ".py",
   "mimetype": "text/x-python",
   "name": "python",
   "nbconvert_exporter": "python",
   "pygments_lexer": "ipython3",
   "version": "3.11.6"
  }
 },
 "nbformat": 4,
 "nbformat_minor": 2
}
