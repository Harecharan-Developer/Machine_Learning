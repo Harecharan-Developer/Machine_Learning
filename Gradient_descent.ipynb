{
 "cells": [
  {
   "cell_type": "code",
   "execution_count": 2,
   "metadata": {},
   "outputs": [],
   "source": [
    "import matplotlib.pyplot as py\n",
    "import numpy as np"
   ]
  },
  {
   "cell_type": "code",
   "execution_count": null,
   "metadata": {},
   "outputs": [],
   "source": [
    "x=[100,200,300,400,500,600,700,800,900,1000]\n",
    "y=[200,300,500,550,700,800,900,950,1100,1200]\n"
   ]
  },
  {
   "cell_type": "code",
   "execution_count": 8,
   "metadata": {},
   "outputs": [
    {
     "ename": "TypeError",
     "evalue": "'float' object is not subscriptable",
     "output_type": "error",
     "traceback": [
      "\u001b[1;31m---------------------------------------------------------------------------\u001b[0m",
      "\u001b[1;31mTypeError\u001b[0m                                 Traceback (most recent call last)",
      "\u001b[1;32mc:\\Users\\DELL\\DESKTOP\\5TH SEM\\Machine_Learning\\Machine_Learning\\Gradient_descent.ipynb Cell 3\u001b[0m line \u001b[0;36m1\n\u001b[0;32m     <a href='vscode-notebook-cell:/c%3A/Users/DELL/DESKTOP/5TH%20SEM/Machine_Learning/Machine_Learning/Gradient_descent.ipynb#X24sZmlsZQ%3D%3D?line=11'>12</a>\u001b[0m     y_predicted\u001b[39m=\u001b[39m[y_intercept\u001b[39m+\u001b[39mslope\u001b[39m*\u001b[39mx[i] \u001b[39mfor\u001b[39;00m i \u001b[39min\u001b[39;00m \u001b[39mrange\u001b[39m(\u001b[39mlen\u001b[39m(x)\u001b[39m-\u001b[39m\u001b[39m1\u001b[39m)]\n\u001b[0;32m     <a href='vscode-notebook-cell:/c%3A/Users/DELL/DESKTOP/5TH%20SEM/Machine_Learning/Machine_Learning/Gradient_descent.ipynb#X24sZmlsZQ%3D%3D?line=12'>13</a>\u001b[0m     y_intercept\u001b[39m=\u001b[39my_intercept\u001b[39m-\u001b[39malpha\u001b[39m*\u001b[39m\u001b[39msum\u001b[39m([y_predicted[i]\u001b[39m-\u001b[39my[i] \u001b[39mfor\u001b[39;00m i \u001b[39min\u001b[39;00m \u001b[39mrange\u001b[39m(\u001b[39mlen\u001b[39m(y)\u001b[39m-\u001b[39m\u001b[39m1\u001b[39m)])\u001b[39m/\u001b[39m\u001b[39mlen\u001b[39m(x)\n\u001b[1;32m---> <a href='vscode-notebook-cell:/c%3A/Users/DELL/DESKTOP/5TH%20SEM/Machine_Learning/Machine_Learning/Gradient_descent.ipynb#X24sZmlsZQ%3D%3D?line=13'>14</a>\u001b[0m     slope\u001b[39m=\u001b[39mslope\u001b[39m-\u001b[39malpha\u001b[39m*\u001b[39m\u001b[39msum\u001b[39;49m((y_intercept[i]\u001b[39m-\u001b[39;49my[i])\u001b[39m*\u001b[39;49mx[i] \u001b[39mfor\u001b[39;49;00m i \u001b[39min\u001b[39;49;00m \u001b[39mrange\u001b[39;49m(\u001b[39mlen\u001b[39;49m(y)\u001b[39m-\u001b[39;49m\u001b[39m1\u001b[39;49m))\u001b[39m/\u001b[39m\u001b[39mlen\u001b[39m(x)\n\u001b[0;32m     <a href='vscode-notebook-cell:/c%3A/Users/DELL/DESKTOP/5TH%20SEM/Machine_Learning/Machine_Learning/Gradient_descent.ipynb#X24sZmlsZQ%3D%3D?line=14'>15</a>\u001b[0m     \u001b[39miter\u001b[39m\u001b[39m-\u001b[39m\u001b[39m=\u001b[39m\u001b[39m1\u001b[39m\n\u001b[0;32m     <a href='vscode-notebook-cell:/c%3A/Users/DELL/DESKTOP/5TH%20SEM/Machine_Learning/Machine_Learning/Gradient_descent.ipynb#X24sZmlsZQ%3D%3D?line=15'>16</a>\u001b[0m \u001b[39mprint\u001b[39m(\u001b[39m\"\u001b[39m\u001b[39my_intercept=\u001b[39m\u001b[39m\"\u001b[39m,y_intercept,\u001b[39m\"\u001b[39m\u001b[39mand slope=\u001b[39m\u001b[39m\"\u001b[39m,slope)\n",
      "\u001b[1;32mc:\\Users\\DELL\\DESKTOP\\5TH SEM\\Machine_Learning\\Machine_Learning\\Gradient_descent.ipynb Cell 3\u001b[0m line \u001b[0;36m1\n\u001b[0;32m     <a href='vscode-notebook-cell:/c%3A/Users/DELL/DESKTOP/5TH%20SEM/Machine_Learning/Machine_Learning/Gradient_descent.ipynb#X24sZmlsZQ%3D%3D?line=11'>12</a>\u001b[0m     y_predicted\u001b[39m=\u001b[39m[y_intercept\u001b[39m+\u001b[39mslope\u001b[39m*\u001b[39mx[i] \u001b[39mfor\u001b[39;00m i \u001b[39min\u001b[39;00m \u001b[39mrange\u001b[39m(\u001b[39mlen\u001b[39m(x)\u001b[39m-\u001b[39m\u001b[39m1\u001b[39m)]\n\u001b[0;32m     <a href='vscode-notebook-cell:/c%3A/Users/DELL/DESKTOP/5TH%20SEM/Machine_Learning/Machine_Learning/Gradient_descent.ipynb#X24sZmlsZQ%3D%3D?line=12'>13</a>\u001b[0m     y_intercept\u001b[39m=\u001b[39my_intercept\u001b[39m-\u001b[39malpha\u001b[39m*\u001b[39m\u001b[39msum\u001b[39m([y_predicted[i]\u001b[39m-\u001b[39my[i] \u001b[39mfor\u001b[39;00m i \u001b[39min\u001b[39;00m \u001b[39mrange\u001b[39m(\u001b[39mlen\u001b[39m(y)\u001b[39m-\u001b[39m\u001b[39m1\u001b[39m)])\u001b[39m/\u001b[39m\u001b[39mlen\u001b[39m(x)\n\u001b[1;32m---> <a href='vscode-notebook-cell:/c%3A/Users/DELL/DESKTOP/5TH%20SEM/Machine_Learning/Machine_Learning/Gradient_descent.ipynb#X24sZmlsZQ%3D%3D?line=13'>14</a>\u001b[0m     slope\u001b[39m=\u001b[39mslope\u001b[39m-\u001b[39malpha\u001b[39m*\u001b[39m\u001b[39msum\u001b[39m((y_intercept[i]\u001b[39m-\u001b[39my[i])\u001b[39m*\u001b[39mx[i] \u001b[39mfor\u001b[39;00m i \u001b[39min\u001b[39;00m \u001b[39mrange\u001b[39m(\u001b[39mlen\u001b[39m(y)\u001b[39m-\u001b[39m\u001b[39m1\u001b[39m))\u001b[39m/\u001b[39m\u001b[39mlen\u001b[39m(x)\n\u001b[0;32m     <a href='vscode-notebook-cell:/c%3A/Users/DELL/DESKTOP/5TH%20SEM/Machine_Learning/Machine_Learning/Gradient_descent.ipynb#X24sZmlsZQ%3D%3D?line=14'>15</a>\u001b[0m     \u001b[39miter\u001b[39m\u001b[39m-\u001b[39m\u001b[39m=\u001b[39m\u001b[39m1\u001b[39m\n\u001b[0;32m     <a href='vscode-notebook-cell:/c%3A/Users/DELL/DESKTOP/5TH%20SEM/Machine_Learning/Machine_Learning/Gradient_descent.ipynb#X24sZmlsZQ%3D%3D?line=15'>16</a>\u001b[0m \u001b[39mprint\u001b[39m(\u001b[39m\"\u001b[39m\u001b[39my_intercept=\u001b[39m\u001b[39m\"\u001b[39m,y_intercept,\u001b[39m\"\u001b[39m\u001b[39mand slope=\u001b[39m\u001b[39m\"\u001b[39m,slope)\n",
      "\u001b[1;31mTypeError\u001b[0m: 'float' object is not subscriptable"
     ]
    }
   ],
   "source": [
    "# initially we take b0 and b1 = 0\n",
    "# we find b0 and b1 of 1st iter = b0= b0(which is 0)-alpha*(1/n * sum (y predicted - yi))\n",
    "# now with b0 and b1 we update its value and do 2nd iteration \n",
    "#\n",
    "#\n",
    "\n",
    "y_intercept=0\n",
    "slope=0\n",
    "iter=1\n",
    "alpha=0.01\n",
    "while iter:\n",
    "    y_predicted=[y_intercept+slope*x[i] for i in range(len(x)-1)]\n",
    "    y_intercept=y_intercept-alpha*sum([y_predicted[i]-y[i] for i in range(len(y)-1)])/len(x)\n",
    "    slope=slope-alpha*sum((y_intercept[i]-y[i]) for i in range(len(y)-1))/len(x)\n",
    "    iter-=1\n",
    "print(\"y_intercept=\",y_intercept,\"and slope=\",slope)\n",
    "\n",
    "\n",
    "\n"
   ]
  },
  {
   "cell_type": "code",
   "execution_count": null,
   "metadata": {},
   "outputs": [],
   "source": []
  }
 ],
 "metadata": {
  "kernelspec": {
   "display_name": "Python 3",
   "language": "python",
   "name": "python3"
  },
  "language_info": {
   "codemirror_mode": {
    "name": "ipython",
    "version": 3
   },
   "file_extension": ".py",
   "mimetype": "text/x-python",
   "name": "python",
   "nbconvert_exporter": "python",
   "pygments_lexer": "ipython3",
   "version": "3.11.5"
  },
  "orig_nbformat": 4
 },
 "nbformat": 4,
 "nbformat_minor": 2
}
