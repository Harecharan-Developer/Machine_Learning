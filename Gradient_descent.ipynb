{
 "cells": [
  {
   "cell_type": "code",
   "execution_count": 20,
   "metadata": {},
   "outputs": [],
   "source": [
    "import matplotlib.pyplot as py\n",
    "import numpy as np"
   ]
  },
  {
   "cell_type": "code",
   "execution_count": 25,
   "metadata": {},
   "outputs": [
    {
     "name": "stdout",
     "output_type": "stream",
     "text": [
      "y_intercept = 1.6264968916540392 and slope = 5.237956066940384\n"
     ]
    }
   ],
   "source": [
    "x = [-3, -2.5, -2, -1.5, -1, -0.5, 0, 0.5, 1, 1.5, 2, 2.5, 3, 3.5, 4, 4.5, 5, 5.5, 6, 6.5]\n",
    "y = [9.2, 6.7, 3.8, 1.5, 0.1, 0.3, 0.2, 0.9, 2.1, 3.7, 6.1, 9.4, 13.2, 17.5, 22.3, 27.6, 33.5, 40.1, 47.2, 54.9]\n",
    "\n",
    "y_predicted=[]\n",
    "y_intercept = 0\n",
    "slope = 0\n",
    "iterations = 10\n",
    "\n",
    "alpha = 0.01\n",
    "\n",
    "for _ in range(iterations):\n",
    "    y_predicted = [y_intercept + slope * xi for xi in x]\n",
    "    y_intercept -=alpha *2* sum([y_predicted[i] - y[i] for i in range(len(y))]) / len(y)\n",
    "    slope -= alpha * 2*sum([(y_predicted[i] - y[i]) * x[i] for i in range(len(x))]) / len(y)\n",
    "print(\"y_intercept =\", y_intercept, \"and slope =\", slope)\n"
   ]
  },
  {
   "cell_type": "code",
   "execution_count": 24,
   "metadata": {},
   "outputs": [
    {
     "name": "stdout",
     "output_type": "stream",
     "text": [
      "Slope (m): 5.23796\n",
      "Y-Intercept (b): 1.62650\n"
     ]
    }
   ],
   "source": [
    "import numpy as np\n",
    "\n",
    "# Given data\n",
    "x = np.array([-3, -2.5, -2, -1.5, -1, -0.5, 0, 0.5, 1, 1.5, 2, 2.5, 3, 3.5, 4, 4.5, 5, 5.5, 6, 6.5])\n",
    "y = np.array([9.2, 6.7, 3.8, 1.5, 0.1, 0.3, 0.2, 0.9, 2.1, 3.7, 6.1, 9.4, 13.2, 17.5, 22.3, 27.6, 33.5, 40.1, 47.2, 54.9])\n",
    "\n",
    "# Initialize slope (m) and y-intercept (b)\n",
    "m = 0\n",
    "b = 0\n",
    "\n",
    "# Learning rate (alpha) and number of iterations\n",
    "alpha = 0.01\n",
    "iterations = 10\n",
    "\n",
    "# Gradient Descent\n",
    "for _ in range(iterations):\n",
    "    y_pred = m * x + b  # Predicted values\n",
    "    error = y_pred - y  # Error\n",
    "    \n",
    "    # Update m and b\n",
    "    m -= alpha * (2 * np.dot(error, x) / len(x))\n",
    "    b -= alpha * (2 * np.sum(error) / len(x))\n",
    "\n",
    "# Print the final values of m and b\n",
    "print(f\"Slope (m): {m:.5f}\")\n",
    "print(f\"Y-Intercept (b): {b:.5f}\")\n"
   ]
  }
 ],
 "metadata": {
  "kernelspec": {
   "display_name": "Python 3",
   "language": "python",
   "name": "python3"
  },
  "language_info": {
   "codemirror_mode": {
    "name": "ipython",
    "version": 3
   },
   "file_extension": ".py",
   "mimetype": "text/x-python",
   "name": "python",
   "nbconvert_exporter": "python",
   "pygments_lexer": "ipython3",
   "version": "3.11.5"
  },
  "orig_nbformat": 4
 },
 "nbformat": 4,
 "nbformat_minor": 2
}
