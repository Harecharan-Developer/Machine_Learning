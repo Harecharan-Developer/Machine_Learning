{
 "cells": [
  {
   "cell_type": "code",
   "execution_count": 2,
   "metadata": {},
   "outputs": [],
   "source": [
    "import matplotlib.pyplot as py\n",
    "import numpy as np"
   ]
  },
  {
   "cell_type": "code",
   "execution_count": 15,
   "metadata": {},
   "outputs": [
    {
     "name": "stdout",
     "output_type": "stream",
     "text": [
      "y_intercept = 7.2 and slope = 4860.0\n"
     ]
    }
   ],
   "source": [
    "x = [100, 200, 300, 400, 500, 600, 700, 800, 900, 1000]\n",
    "y = [200, 300, 500, 550, 700, 800, 900, 950, 1100, 1200]\n",
    "y_intercept = 0\n",
    "slope = 0\n",
    "iterations = 1\n",
    "alpha = 0.01\n",
    "\n",
    "for _ in range(iterations):\n",
    "    y_predicted = [y_intercept + slope * xi for xi in x]\n",
    "    y_intercept -=alpha * sum([y_predicted[i] - y[i] for i in range(len(y))]) / len(y)\n",
    "    slope -= alpha * sum([(y_predicted[i] - y[i]) * x[i] for i in range(len(x))]) / len(y)\n",
    "print(\"y_intercept =\", y_intercept, \"and slope =\", slope)\n"
   ]
  },
  {
   "cell_type": "code",
   "execution_count": null,
   "metadata": {},
   "outputs": [],
   "source": []
  }
 ],
 "metadata": {
  "kernelspec": {
   "display_name": "Python 3",
   "language": "python",
   "name": "python3"
  },
  "language_info": {
   "codemirror_mode": {
    "name": "ipython",
    "version": 3
   },
   "file_extension": ".py",
   "mimetype": "text/x-python",
   "name": "python",
   "nbconvert_exporter": "python",
   "pygments_lexer": "ipython3",
   "version": "3.11.5"
  },
  "orig_nbformat": 4
 },
 "nbformat": 4,
 "nbformat_minor": 2
}
