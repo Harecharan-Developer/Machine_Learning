{
 "cells": [
  {
   "cell_type": "code",
   "execution_count": 12,
   "metadata": {},
   "outputs": [],
   "source": [
    "## Importing Libraries\n",
    "import pandas as pd\n",
    "import numpy as np\n",
    "import matplotlib.pyplot as plt\n",
    "from sklearn.model_selection import train_test_split\n",
    "%matplotlib inline\n"
   ]
  },
  {
   "cell_type": "code",
   "execution_count": 13,
   "metadata": {},
   "outputs": [],
   "source": [
    "## Loading the dataset\n",
    "from sklearn.datasets import load_iris\n",
    "iris = load_iris()\n"
   ]
  },
  {
   "cell_type": "code",
   "execution_count": 14,
   "metadata": {},
   "outputs": [
    {
     "data": {
      "text/plain": [
       "['sepal length (cm)',\n",
       " 'sepal width (cm)',\n",
       " 'petal length (cm)',\n",
       " 'petal width (cm)']"
      ]
     },
     "execution_count": 14,
     "metadata": {},
     "output_type": "execute_result"
    }
   ],
   "source": [
    "## Displaying Input Variables\n",
    "iris.feature_names\n"
   ]
  },
  {
   "cell_type": "code",
   "execution_count": 15,
   "metadata": {},
   "outputs": [
    {
     "data": {
      "text/plain": [
       "array(['setosa', 'versicolor', 'virginica'], dtype='<U10')"
      ]
     },
     "execution_count": 15,
     "metadata": {},
     "output_type": "execute_result"
    }
   ],
   "source": [
    "\n",
    "## Displaying the Output Variable\n",
    "iris.target_names\n"
   ]
  },
  {
   "cell_type": "code",
   "execution_count": 16,
   "metadata": {},
   "outputs": [
    {
     "data": {
      "text/html": [
       "<div>\n",
       "<style scoped>\n",
       "    .dataframe tbody tr th:only-of-type {\n",
       "        vertical-align: middle;\n",
       "    }\n",
       "\n",
       "    .dataframe tbody tr th {\n",
       "        vertical-align: top;\n",
       "    }\n",
       "\n",
       "    .dataframe thead th {\n",
       "        text-align: right;\n",
       "    }\n",
       "</style>\n",
       "<table border=\"1\" class=\"dataframe\">\n",
       "  <thead>\n",
       "    <tr style=\"text-align: right;\">\n",
       "      <th></th>\n",
       "      <th>sepal length (cm)</th>\n",
       "      <th>sepal width (cm)</th>\n",
       "      <th>petal length (cm)</th>\n",
       "      <th>petal width (cm)</th>\n",
       "    </tr>\n",
       "  </thead>\n",
       "  <tbody>\n",
       "    <tr>\n",
       "      <th>0</th>\n",
       "      <td>5.1</td>\n",
       "      <td>3.5</td>\n",
       "      <td>1.4</td>\n",
       "      <td>0.2</td>\n",
       "    </tr>\n",
       "    <tr>\n",
       "      <th>1</th>\n",
       "      <td>4.9</td>\n",
       "      <td>3.0</td>\n",
       "      <td>1.4</td>\n",
       "      <td>0.2</td>\n",
       "    </tr>\n",
       "    <tr>\n",
       "      <th>2</th>\n",
       "      <td>4.7</td>\n",
       "      <td>3.2</td>\n",
       "      <td>1.3</td>\n",
       "      <td>0.2</td>\n",
       "    </tr>\n",
       "    <tr>\n",
       "      <th>3</th>\n",
       "      <td>4.6</td>\n",
       "      <td>3.1</td>\n",
       "      <td>1.5</td>\n",
       "      <td>0.2</td>\n",
       "    </tr>\n",
       "    <tr>\n",
       "      <th>4</th>\n",
       "      <td>5.0</td>\n",
       "      <td>3.6</td>\n",
       "      <td>1.4</td>\n",
       "      <td>0.2</td>\n",
       "    </tr>\n",
       "  </tbody>\n",
       "</table>\n",
       "</div>"
      ],
      "text/plain": [
       "   sepal length (cm)  sepal width (cm)  petal length (cm)  petal width (cm)\n",
       "0                5.1               3.5                1.4               0.2\n",
       "1                4.9               3.0                1.4               0.2\n",
       "2                4.7               3.2                1.3               0.2\n",
       "3                4.6               3.1                1.5               0.2\n",
       "4                5.0               3.6                1.4               0.2"
      ]
     },
     "execution_count": 16,
     "metadata": {},
     "output_type": "execute_result"
    }
   ],
   "source": [
    "\n",
    "## Creating a Dataframe out of the dataset loaded\n",
    "df = pd.DataFrame(iris.data,columns=iris.feature_names)\n",
    "df.head()\n"
   ]
  },
  {
   "cell_type": "code",
   "execution_count": 17,
   "metadata": {},
   "outputs": [
    {
     "data": {
      "text/html": [
       "<div>\n",
       "<style scoped>\n",
       "    .dataframe tbody tr th:only-of-type {\n",
       "        vertical-align: middle;\n",
       "    }\n",
       "\n",
       "    .dataframe tbody tr th {\n",
       "        vertical-align: top;\n",
       "    }\n",
       "\n",
       "    .dataframe thead th {\n",
       "        text-align: right;\n",
       "    }\n",
       "</style>\n",
       "<table border=\"1\" class=\"dataframe\">\n",
       "  <thead>\n",
       "    <tr style=\"text-align: right;\">\n",
       "      <th></th>\n",
       "      <th>sepal length (cm)</th>\n",
       "      <th>sepal width (cm)</th>\n",
       "      <th>petal length (cm)</th>\n",
       "      <th>petal width (cm)</th>\n",
       "      <th>target</th>\n",
       "    </tr>\n",
       "  </thead>\n",
       "  <tbody>\n",
       "    <tr>\n",
       "      <th>0</th>\n",
       "      <td>5.1</td>\n",
       "      <td>3.5</td>\n",
       "      <td>1.4</td>\n",
       "      <td>0.2</td>\n",
       "      <td>0</td>\n",
       "    </tr>\n",
       "    <tr>\n",
       "      <th>1</th>\n",
       "      <td>4.9</td>\n",
       "      <td>3.0</td>\n",
       "      <td>1.4</td>\n",
       "      <td>0.2</td>\n",
       "      <td>0</td>\n",
       "    </tr>\n",
       "    <tr>\n",
       "      <th>2</th>\n",
       "      <td>4.7</td>\n",
       "      <td>3.2</td>\n",
       "      <td>1.3</td>\n",
       "      <td>0.2</td>\n",
       "      <td>0</td>\n",
       "    </tr>\n",
       "    <tr>\n",
       "      <th>3</th>\n",
       "      <td>4.6</td>\n",
       "      <td>3.1</td>\n",
       "      <td>1.5</td>\n",
       "      <td>0.2</td>\n",
       "      <td>0</td>\n",
       "    </tr>\n",
       "    <tr>\n",
       "      <th>4</th>\n",
       "      <td>5.0</td>\n",
       "      <td>3.6</td>\n",
       "      <td>1.4</td>\n",
       "      <td>0.2</td>\n",
       "      <td>0</td>\n",
       "    </tr>\n",
       "  </tbody>\n",
       "</table>\n",
       "</div>"
      ],
      "text/plain": [
       "   sepal length (cm)  sepal width (cm)  petal length (cm)  petal width (cm)  \\\n",
       "0                5.1               3.5                1.4               0.2   \n",
       "1                4.9               3.0                1.4               0.2   \n",
       "2                4.7               3.2                1.3               0.2   \n",
       "3                4.6               3.1                1.5               0.2   \n",
       "4                5.0               3.6                1.4               0.2   \n",
       "\n",
       "   target  \n",
       "0       0  \n",
       "1       0  \n",
       "2       0  \n",
       "3       0  \n",
       "4       0  "
      ]
     },
     "execution_count": 17,
     "metadata": {},
     "output_type": "execute_result"
    }
   ],
   "source": [
    "\n",
    "df['target'] = iris.target\n",
    "df.head()\n"
   ]
  },
  {
   "cell_type": "code",
   "execution_count": 18,
   "metadata": {},
   "outputs": [
    {
     "data": {
      "text/html": [
       "<div>\n",
       "<style scoped>\n",
       "    .dataframe tbody tr th:only-of-type {\n",
       "        vertical-align: middle;\n",
       "    }\n",
       "\n",
       "    .dataframe tbody tr th {\n",
       "        vertical-align: top;\n",
       "    }\n",
       "\n",
       "    .dataframe thead th {\n",
       "        text-align: right;\n",
       "    }\n",
       "</style>\n",
       "<table border=\"1\" class=\"dataframe\">\n",
       "  <thead>\n",
       "    <tr style=\"text-align: right;\">\n",
       "      <th></th>\n",
       "      <th>sepal length (cm)</th>\n",
       "      <th>sepal width (cm)</th>\n",
       "      <th>petal length (cm)</th>\n",
       "      <th>petal width (cm)</th>\n",
       "      <th>target</th>\n",
       "    </tr>\n",
       "  </thead>\n",
       "  <tbody>\n",
       "    <tr>\n",
       "      <th>100</th>\n",
       "      <td>6.3</td>\n",
       "      <td>3.3</td>\n",
       "      <td>6.0</td>\n",
       "      <td>2.5</td>\n",
       "      <td>2</td>\n",
       "    </tr>\n",
       "    <tr>\n",
       "      <th>101</th>\n",
       "      <td>5.8</td>\n",
       "      <td>2.7</td>\n",
       "      <td>5.1</td>\n",
       "      <td>1.9</td>\n",
       "      <td>2</td>\n",
       "    </tr>\n",
       "    <tr>\n",
       "      <th>102</th>\n",
       "      <td>7.1</td>\n",
       "      <td>3.0</td>\n",
       "      <td>5.9</td>\n",
       "      <td>2.1</td>\n",
       "      <td>2</td>\n",
       "    </tr>\n",
       "    <tr>\n",
       "      <th>103</th>\n",
       "      <td>6.3</td>\n",
       "      <td>2.9</td>\n",
       "      <td>5.6</td>\n",
       "      <td>1.8</td>\n",
       "      <td>2</td>\n",
       "    </tr>\n",
       "    <tr>\n",
       "      <th>104</th>\n",
       "      <td>6.5</td>\n",
       "      <td>3.0</td>\n",
       "      <td>5.8</td>\n",
       "      <td>2.2</td>\n",
       "      <td>2</td>\n",
       "    </tr>\n",
       "  </tbody>\n",
       "</table>\n",
       "</div>"
      ],
      "text/plain": [
       "     sepal length (cm)  sepal width (cm)  petal length (cm)  petal width (cm)  \\\n",
       "100                6.3               3.3                6.0               2.5   \n",
       "101                5.8               2.7                5.1               1.9   \n",
       "102                7.1               3.0                5.9               2.1   \n",
       "103                6.3               2.9                5.6               1.8   \n",
       "104                6.5               3.0                5.8               2.2   \n",
       "\n",
       "     target  \n",
       "100       2  \n",
       "101       2  \n",
       "102       2  \n",
       "103       2  \n",
       "104       2  "
      ]
     },
     "execution_count": 18,
     "metadata": {},
     "output_type": "execute_result"
    }
   ],
   "source": [
    "\n",
    "df[df.target==1].head()\n",
    "df[df.target==2].head()\n"
   ]
  },
  {
   "cell_type": "code",
   "execution_count": 19,
   "metadata": {},
   "outputs": [
    {
     "data": {
      "text/html": [
       "<div>\n",
       "<style scoped>\n",
       "    .dataframe tbody tr th:only-of-type {\n",
       "        vertical-align: middle;\n",
       "    }\n",
       "\n",
       "    .dataframe tbody tr th {\n",
       "        vertical-align: top;\n",
       "    }\n",
       "\n",
       "    .dataframe thead th {\n",
       "        text-align: right;\n",
       "    }\n",
       "</style>\n",
       "<table border=\"1\" class=\"dataframe\">\n",
       "  <thead>\n",
       "    <tr style=\"text-align: right;\">\n",
       "      <th></th>\n",
       "      <th>sepal length (cm)</th>\n",
       "      <th>sepal width (cm)</th>\n",
       "      <th>petal length (cm)</th>\n",
       "      <th>petal width (cm)</th>\n",
       "      <th>target</th>\n",
       "      <th>flower_name</th>\n",
       "    </tr>\n",
       "  </thead>\n",
       "  <tbody>\n",
       "    <tr>\n",
       "      <th>0</th>\n",
       "      <td>5.1</td>\n",
       "      <td>3.5</td>\n",
       "      <td>1.4</td>\n",
       "      <td>0.2</td>\n",
       "      <td>0</td>\n",
       "      <td>setosa</td>\n",
       "    </tr>\n",
       "    <tr>\n",
       "      <th>1</th>\n",
       "      <td>4.9</td>\n",
       "      <td>3.0</td>\n",
       "      <td>1.4</td>\n",
       "      <td>0.2</td>\n",
       "      <td>0</td>\n",
       "      <td>setosa</td>\n",
       "    </tr>\n",
       "    <tr>\n",
       "      <th>2</th>\n",
       "      <td>4.7</td>\n",
       "      <td>3.2</td>\n",
       "      <td>1.3</td>\n",
       "      <td>0.2</td>\n",
       "      <td>0</td>\n",
       "      <td>setosa</td>\n",
       "    </tr>\n",
       "    <tr>\n",
       "      <th>3</th>\n",
       "      <td>4.6</td>\n",
       "      <td>3.1</td>\n",
       "      <td>1.5</td>\n",
       "      <td>0.2</td>\n",
       "      <td>0</td>\n",
       "      <td>setosa</td>\n",
       "    </tr>\n",
       "    <tr>\n",
       "      <th>4</th>\n",
       "      <td>5.0</td>\n",
       "      <td>3.6</td>\n",
       "      <td>1.4</td>\n",
       "      <td>0.2</td>\n",
       "      <td>0</td>\n",
       "      <td>setosa</td>\n",
       "    </tr>\n",
       "  </tbody>\n",
       "</table>\n",
       "</div>"
      ],
      "text/plain": [
       "   sepal length (cm)  sepal width (cm)  petal length (cm)  petal width (cm)  \\\n",
       "0                5.1               3.5                1.4               0.2   \n",
       "1                4.9               3.0                1.4               0.2   \n",
       "2                4.7               3.2                1.3               0.2   \n",
       "3                4.6               3.1                1.5               0.2   \n",
       "4                5.0               3.6                1.4               0.2   \n",
       "\n",
       "   target flower_name  \n",
       "0       0      setosa  \n",
       "1       0      setosa  \n",
       "2       0      setosa  \n",
       "3       0      setosa  \n",
       "4       0      setosa  "
      ]
     },
     "execution_count": 19,
     "metadata": {},
     "output_type": "execute_result"
    }
   ],
   "source": [
    "\n",
    "df['flower_name'] =df.target.apply(lambda x: iris.target_names[x])\n",
    "df.head()\n"
   ]
  },
  {
   "cell_type": "code",
   "execution_count": 20,
   "metadata": {},
   "outputs": [],
   "source": [
    "\n",
    "df[45:55]\n",
    "df0 = df[:50]\n",
    "df1 = df[50:100]\n",
    "df2 = df[100:]\n"
   ]
  },
  {
   "cell_type": "code",
   "execution_count": 21,
   "metadata": {},
   "outputs": [
    {
     "data": {
      "text/plain": [
       "<matplotlib.collections.PathCollection at 0x2626baab890>"
      ]
     },
     "execution_count": 21,
     "metadata": {},
     "output_type": "execute_result"
    },
    {
     "data": {
      "image/png": "[encoded data removed]",
      "text/plain": [
       "<Figure size 640x480 with 1 Axes>"
      ]
     },
     "metadata": {},
     "output_type": "display_data"
    }
   ],
   "source": [
    "plt.xlabel('Sepal Length')\n",
    "plt.ylabel('Sepal Width')\n",
    "plt.scatter(df0['sepal length (cm)'], df0['sepal width (cm)'],color=\"green\",marker='+')\n",
    "plt.scatter(df1['sepal length (cm)'], df1['sepal width (cm)'],color=\"blue\",marker='.')\n"
   ]
  },
  {
   "cell_type": "code",
   "execution_count": 22,
   "metadata": {},
   "outputs": [
    {
     "data": {
      "text/plain": [
       "<matplotlib.collections.PathCollection at 0x2626db67ed0>"
      ]
     },
     "execution_count": 22,
     "metadata": {},
     "output_type": "execute_result"
    },
    {
     "data": {
      "image/png": "[encoded data removed]",
      "text/plain": [
       "<Figure size 640x480 with 1 Axes>"
      ]
     },
     "metadata": {},
     "output_type": "display_data"
    }
   ],
   "source": [
    "plt.xlabel('Petal Length')\n",
    "plt.ylabel('Petal Width')\n",
    "plt.scatter(df0['petal length (cm)'], df0['petal width (cm)'],color=\"green\",marker='+')\n",
    "plt.scatter(df1['petal length (cm)'], df1['petal width (cm)'],color=\"blue\",marker='.')\n"
   ]
  },
  {
   "cell_type": "code",
   "execution_count": 24,
   "metadata": {},
   "outputs": [],
   "source": [
    "## Separating Input/Output Varaiables and Creating Training-Testing Sets\n",
    "X = df.drop(['target','flower_name'], axis='columns')\n",
    "y = df.target\n",
    "X_train, X_test, y_train, y_test = train_test_split(X, y, test_size=0.2)\n",
    "from sklearn.svm import SVC\n",
    "model = SVC()\n"
   ]
  },
  {
   "cell_type": "code",
   "execution_count": 25,
   "metadata": {},
   "outputs": [
    {
     "data": {
      "text/plain": [
       "0.9666666666666667"
      ]
     },
     "execution_count": 25,
     "metadata": {},
     "output_type": "execute_result"
    }
   ],
   "source": [
    "model.fit(X_train, y_train)\n",
    "model.score(X_test, y_test)\n"
   ]
  },
  {
   "cell_type": "code",
   "execution_count": 26,
   "metadata": {},
   "outputs": [
    {
     "name": "stderr",
     "output_type": "stream",
     "text": [
      "C:\\Users\\DELL\\AppData\\Local\\Packages\\PythonSoftwareFoundation.Python.3.11_qbz5n2kfra8p0\\LocalCache\\local-packages\\Python311\\site-packages\\sklearn\\base.py:465: UserWarning: X does not have valid feature names, but SVC was fitted with feature names\n",
      "  warnings.warn(\n"
     ]
    },
    {
     "data": {
      "text/plain": [
       "array([0])"
      ]
     },
     "execution_count": 26,
     "metadata": {},
     "output_type": "execute_result"
    }
   ],
   "source": [
    "model.predict([[4.8,3.0,1.5,0.3]])\n"
   ]
  },
  {
   "cell_type": "code",
   "execution_count": 27,
   "metadata": {},
   "outputs": [
    {
     "data": {
      "text/plain": [
       "0.9666666666666667"
      ]
     },
     "execution_count": 27,
     "metadata": {},
     "output_type": "execute_result"
    }
   ],
   "source": [
    "## 1. Regularization (C)\n",
    "model_C = SVC(C=1)\n",
    "model_C.fit(X_train, y_train)\n",
    "model_C.score(X_test, y_test)\n"
   ]
  },
  {
   "cell_type": "code",
   "execution_count": 28,
   "metadata": {},
   "outputs": [
    {
     "data": {
      "text/plain": [
       "0.9333333333333333"
      ]
     },
     "execution_count": 28,
     "metadata": {},
     "output_type": "execute_result"
    }
   ],
   "source": [
    "model_C = SVC(C=10)\n",
    "model_C.fit(X_train, y_train)\n",
    "model_C.score(X_test, y_test)\n"
   ]
  },
  {
   "cell_type": "code",
   "execution_count": 29,
   "metadata": {},
   "outputs": [
    {
     "data": {
      "text/plain": [
       "0.9"
      ]
     },
     "execution_count": 29,
     "metadata": {},
     "output_type": "execute_result"
    }
   ],
   "source": [
    "## 2. Gamma\n",
    "model_g = SVC(gamma=10)\n",
    "model_g.fit(X_train, y_train)\n",
    "model_g.score(X_test, y_test)\n"
   ]
  },
  {
   "cell_type": "code",
   "execution_count": 30,
   "metadata": {},
   "outputs": [
    {
     "data": {
      "text/plain": [
       "0.9666666666666667"
      ]
     },
     "execution_count": 30,
     "metadata": {},
     "output_type": "execute_result"
    }
   ],
   "source": [
    "## 3. Kernel\n",
    "model_linear_kernal = SVC(kernel='linear')\n",
    "model_linear_kernal.fit(X_train, y_train)\n",
    "model_linear_kernal.score(X_test, y_test)\n"
   ]
  },
  {
   "cell_type": "code",
   "execution_count": 31,
   "metadata": {},
   "outputs": [],
   "source": [
    "y_pred = model_linear_kernal.predict(X_test)\n"
   ]
  },
  {
   "cell_type": "code",
   "execution_count": 32,
   "metadata": {},
   "outputs": [
    {
     "name": "stdout",
     "output_type": "stream",
     "text": [
      "Confusion Matrix: \n",
      "[[10  0  0]\n",
      " [ 0 10  1]\n",
      " [ 0  0  9]]\n"
     ]
    }
   ],
   "source": [
    "## Model Performance - Confusion Matrix\n",
    "from sklearn.metrics import confusion_matrix\n",
    "print(\"Confusion Matrix: \")\n",
    "print(confusion_matrix(y_test, y_pred))\n"
   ]
  },
  {
   "cell_type": "code",
   "execution_count": null,
   "metadata": {},
   "outputs": [],
   "source": [
    "## Model Performance - Classification Report\n"
   ]
  },
  {
   "cell_type": "code",
   "execution_count": 33,
   "metadata": {},
   "outputs": [
    {
     "name": "stdout",
     "output_type": "stream",
     "text": [
      "acuracy: 0.9666666666666667\n",
      "precision: 0.9666666666666667\n",
      "recall 0.9696969696969697\n",
      "              precision    recall  f1-score   support\n",
      "\n",
      "           0       1.00      1.00      1.00        10\n",
      "           1       1.00      0.91      0.95        11\n",
      "           2       0.90      1.00      0.95         9\n",
      "\n",
      "    accuracy                           0.97        30\n",
      "   macro avg       0.97      0.97      0.97        30\n",
      "weighted avg       0.97      0.97      0.97        30\n",
      "\n"
     ]
    }
   ],
   "source": [
    "from sklearn import metrics\n",
    "# accuracy\n",
    "print(\"acuracy:\", metrics.accuracy_score(y_test,y_pred))\n",
    "# precision score\n",
    "print(\"precision:\", metrics.precision_score(y_test,y_pred, average='macro'))\n",
    "# recall score\n",
    "print(\"recall\" , metrics.recall_score(y_test,y_pred, average='macro'))\n",
    "print(metrics.classification_report(y_test, y_pred))\n"
   ]
  },
  {
   "cell_type": "code",
   "execution_count": null,
   "metadata": {},
   "outputs": [],
   "source": [
    "## Visulaizing the Results\n"
   ]
  },
  {
   "cell_type": "code",
   "execution_count": 34,
   "metadata": {},
   "outputs": [
    {
     "data": {
      "image/png": "[encoded data removed]",
      "text/plain": [
       "<Figure size 640x480 with 1 Axes>"
      ]
     },
     "metadata": {},
     "output_type": "display_data"
    }
   ],
   "source": [
    "from matplotlib.colors import ListedColormap\n",
    "X = iris.data[:, :2]\n",
    "y = iris.target\n",
    "C = 1.0 # SVM regularization parameter\n",
    "svc = SVC(kernel='linear', C=1).fit(X, y)\n",
    "# create a mesh to plot in\n",
    "x_min, x_max = X[:, 0].min() - 1, X[:, 0].max() + 1\n",
    "y_min, y_max = X[:, 1].min() - 1, X[:, 1].max() + 1\n",
    "h = (x_max / x_min)/100\n",
    "xx, yy = np.meshgrid(np.arange(x_min, x_max, h), np.arange(y_min, y_max, h))\n",
    "plt.subplot(1, 1, 1)\n",
    "Z = svc.predict(np.c_[xx.ravel(), yy.ravel()])\n",
    "Z = Z.reshape(xx.shape)\n",
    "plt.contourf(xx, yy, Z, cmap=plt.cm.Paired, alpha=0.8)\n",
    "plt.scatter(X[:, 0], X[:, 1], c=y, cmap=plt.cm.Paired)\n",
    "plt.xlabel('Sepal length')\n",
    "plt.ylabel('Sepal width')\n",
    "plt.xlim(xx.min(), xx.max())\n",
    "plt.title('SVC with linear kernel')\n",
    "plt.show()\n"
   ]
  },
  {
   "cell_type": "code",
   "execution_count": 35,
   "metadata": {},
   "outputs": [
    {
     "data": {
      "image/png": "[encoded data removed]",
      "text/plain": [
       "<Figure size 640x480 with 1 Axes>"
      ]
     },
     "metadata": {},
     "output_type": "display_data"
    }
   ],
   "source": [
    "C = 1.0 # SVM regularization parameter\n",
    "svc = SVC(kernel='rbf', C=100, gamma=0.01).fit(X, y)\n",
    "# create a mesh to plot in\n",
    "x_min, x_max = X[:, 0].min() - 1, X[:, 0].max() + 1\n",
    "y_min, y_max = X[:, 1].min() - 1, X[:, 1].max() + 1\n",
    "h = (x_max / x_min)/100\n",
    "xx, yy = np.meshgrid(np.arange(x_min, x_max, h), np.arange(y_min, y_max, h))\n",
    "plt.subplot(1, 1, 1)\n",
    "Z = svc.predict(np.c_[xx.ravel(), yy.ravel()])\n",
    "Z = Z.reshape(xx.shape)\n",
    "plt.contourf(xx, yy, Z, cmap=plt.cm.Paired, alpha=0.8)\n",
    "plt.scatter(X[:, 0], X[:, 1], c=y, cmap=plt.cm.Paired)\n",
    "plt.xlabel('Sepal length')\n",
    "plt.ylabel('Sepal width')\n",
    "plt.xlim(xx.min(), xx.max())\n",
    "plt.title('SVC with rbf kernel')\n",
    "plt.show()\n"
   ]
  },
  {
   "cell_type": "code",
   "execution_count": 36,
   "metadata": {},
   "outputs": [
    {
     "data": {
      "image/png": "[encoded data removed]",
      "text/plain": [
       "<Figure size 640x480 with 1 Axes>"
      ]
     },
     "metadata": {},
     "output_type": "display_data"
    }
   ],
   "source": [
    "C = 1.0 # SVM regularization parameter\n",
    "svc = SVC(kernel='rbf', C=10, gamma=10).fit(X, y)\n",
    "# create a mesh to plot in\n",
    "x_min, x_max = X[:, 0].min() - 1, X[:, 0].max() + 1\n",
    "y_min, y_max = X[:, 1].min() - 1, X[:, 1].max() + 1\n",
    "h = (x_max / x_min)/100\n",
    "xx, yy = np.meshgrid(np.arange(x_min, x_max, h), np.arange(y_min, y_max, h))\n",
    "plt.subplot(1, 1, 1)\n",
    "Z = svc.predict(np.c_[xx.ravel(), yy.ravel()])\n",
    "Z = Z.reshape(xx.shape)\n",
    "plt.contourf(xx, yy, Z, cmap=plt.cm.Paired, alpha=0.8)\n",
    "plt.scatter(X[:, 0], X[:, 1], c=y, cmap=plt.cm.Paired)\n",
    "plt.xlabel('Sepal length')\n",
    "plt.ylabel('Sepal width')\n",
    "plt.xlim(xx.min(), xx.max())\n",
    "plt.title('SVC with rbf kernel')\n",
    "plt.show()\n"
   ]
  },
  {
   "cell_type": "code",
   "execution_count": 37,
   "metadata": {},
   "outputs": [
    {
     "name": "stdout",
     "output_type": "stream",
     "text": [
      "Fitting 10 folds for each of 16 candidates, totalling 160 fits\n",
      "[CV 1/10; 1/16] START C=1, gamma=0.1............................................\n",
      "[CV 1/10; 1/16] END .............C=1, gamma=0.1;, score=1.000 total time=   0.0s\n",
      "[CV 2/10; 1/16] START C=1, gamma=0.1............................................\n",
      "[CV 2/10; 1/16] END .............C=1, gamma=0.1;, score=1.000 total time=   0.0s\n",
      "[CV 3/10; 1/16] START C=1, gamma=0.1............................................\n",
      "[CV 3/10; 1/16] END .............C=1, gamma=0.1;, score=0.833 total time=   0.0s\n",
      "[CV 4/10; 1/16] START C=1, gamma=0.1............................................\n",
      "[CV 4/10; 1/16] END .............C=1, gamma=0.1;, score=0.917 total time=   0.0s\n",
      "[CV 5/10; 1/16] START C=1, gamma=0.1............................................\n",
      "[CV 5/10; 1/16] END .............C=1, gamma=0.1;, score=1.000 total time=   0.0s\n",
      "[CV 6/10; 1/16] START C=1, gamma=0.1............................................\n",
      "[CV 6/10; 1/16] END .............C=1, gamma=0.1;, score=1.000 total time=   0.0s\n",
      "[CV 7/10; 1/16] START C=1, gamma=0.1............................................\n",
      "[CV 7/10; 1/16] END .............C=1, gamma=0.1;, score=1.000 total time=   0.0s\n",
      "[CV 8/10; 1/16] START C=1, gamma=0.1............................................\n",
      "[CV 8/10; 1/16] END .............C=1, gamma=0.1;, score=1.000 total time=   0.0s\n",
      "[CV 9/10; 1/16] START C=1, gamma=0.1............................................\n",
      "[CV 9/10; 1/16] END .............C=1, gamma=0.1;, score=1.000 total time=   0.0s\n",
      "[CV 10/10; 1/16] START C=1, gamma=0.1...........................................\n",
      "[CV 10/10; 1/16] END ............C=1, gamma=0.1;, score=1.000 total time=   0.0s\n",
      "[CV 1/10; 2/16] START C=1, gamma=0.01...........................................\n",
      "[CV 1/10; 2/16] END ............C=1, gamma=0.01;, score=0.833 total time=   0.0s\n",
      "[CV 2/10; 2/16] START C=1, gamma=0.01...........................................\n",
      "[CV 2/10; 2/16] END ............C=1, gamma=0.01;, score=1.000 total time=   0.0s\n",
      "[CV 3/10; 2/16] START C=1, gamma=0.01...........................................\n",
      "[CV 3/10; 2/16] END ............C=1, gamma=0.01;, score=0.833 total time=   0.0s\n",
      "[CV 4/10; 2/16] START C=1, gamma=0.01...........................................\n",
      "[CV 4/10; 2/16] END ............C=1, gamma=0.01;, score=0.917 total time=   0.0s\n",
      "[CV 5/10; 2/16] START C=1, gamma=0.01...........................................\n",
      "[CV 5/10; 2/16] END ............C=1, gamma=0.01;, score=1.000 total time=   0.0s\n",
      "[CV 6/10; 2/16] START C=1, gamma=0.01...........................................\n",
      "[CV 6/10; 2/16] END ............C=1, gamma=0.01;, score=1.000 total time=   0.0s\n",
      "[CV 7/10; 2/16] START C=1, gamma=0.01...........................................\n",
      "[CV 7/10; 2/16] END ............C=1, gamma=0.01;, score=0.833 total time=   0.0s\n",
      "[CV 8/10; 2/16] START C=1, gamma=0.01...........................................\n",
      "[CV 8/10; 2/16] END ............C=1, gamma=0.01;, score=1.000 total time=   0.0s\n",
      "[CV 9/10; 2/16] START C=1, gamma=0.01...........................................\n",
      "[CV 9/10; 2/16] END ............C=1, gamma=0.01;, score=0.917 total time=   0.0s\n",
      "[CV 10/10; 2/16] START C=1, gamma=0.01..........................................\n",
      "[CV 10/10; 2/16] END ...........C=1, gamma=0.01;, score=1.000 total time=   0.0s\n",
      "[CV 1/10; 3/16] START C=1, gamma=0.001..........................................\n",
      "[CV 1/10; 3/16] END ...........C=1, gamma=0.001;, score=0.833 total time=   0.0s\n",
      "[CV 2/10; 3/16] START C=1, gamma=0.001..........................................\n",
      "[CV 2/10; 3/16] END ...........C=1, gamma=0.001;, score=0.667 total time=   0.0s\n",
      "[CV 3/10; 3/16] START C=1, gamma=0.001..........................................\n",
      "[CV 3/10; 3/16] END ...........C=1, gamma=0.001;, score=0.667 total time=   0.0s\n",
      "[CV 4/10; 3/16] START C=1, gamma=0.001..........................................\n",
      "[CV 4/10; 3/16] END ...........C=1, gamma=0.001;, score=0.667 total time=   0.0s\n",
      "[CV 5/10; 3/16] START C=1, gamma=0.001..........................................\n",
      "[CV 5/10; 3/16] END ...........C=1, gamma=0.001;, score=0.667 total time=   0.0s\n",
      "[CV 6/10; 3/16] START C=1, gamma=0.001..........................................\n",
      "[CV 6/10; 3/16] END ...........C=1, gamma=0.001;, score=0.667 total time=   0.0s\n",
      "[CV 7/10; 3/16] START C=1, gamma=0.001..........................................\n",
      "[CV 7/10; 3/16] END ...........C=1, gamma=0.001;, score=0.667 total time=   0.0s\n",
      "[CV 8/10; 3/16] START C=1, gamma=0.001..........................................\n",
      "[CV 8/10; 3/16] END ...........C=1, gamma=0.001;, score=0.667 total time=   0.0s\n",
      "[CV 9/10; 3/16] START C=1, gamma=0.001..........................................\n",
      "[CV 9/10; 3/16] END ...........C=1, gamma=0.001;, score=0.667 total time=   0.0s\n",
      "[CV 10/10; 3/16] START C=1, gamma=0.001.........................................\n",
      "[CV 10/10; 3/16] END ..........C=1, gamma=0.001;, score=0.667 total time=   0.0s\n",
      "[CV 1/10; 4/16] START C=1, gamma=0.0001.........................................\n",
      "[CV 1/10; 4/16] END ..........C=1, gamma=0.0001;, score=0.833 total time=   0.0s\n",
      "[CV 2/10; 4/16] START C=1, gamma=0.0001.........................................\n",
      "[CV 2/10; 4/16] END ..........C=1, gamma=0.0001;, score=0.333 total time=   0.0s\n",
      "[CV 3/10; 4/16] START C=1, gamma=0.0001.........................................\n",
      "[CV 3/10; 4/16] END ..........C=1, gamma=0.0001;, score=0.333 total time=   0.0s\n",
      "[CV 4/10; 4/16] START C=1, gamma=0.0001.........................................\n",
      "[CV 4/10; 4/16] END ..........C=1, gamma=0.0001;, score=0.333 total time=   0.0s\n",
      "[CV 5/10; 4/16] START C=1, gamma=0.0001.........................................\n",
      "[CV 5/10; 4/16] END ..........C=1, gamma=0.0001;, score=0.333 total time=   0.0s\n",
      "[CV 6/10; 4/16] START C=1, gamma=0.0001.........................................\n",
      "[CV 6/10; 4/16] END ..........C=1, gamma=0.0001;, score=0.333 total time=   0.0s\n",
      "[CV 7/10; 4/16] START C=1, gamma=0.0001.........................................\n",
      "[CV 7/10; 4/16] END ..........C=1, gamma=0.0001;, score=0.333 total time=   0.0s\n",
      "[CV 8/10; 4/16] START C=1, gamma=0.0001.........................................\n",
      "[CV 8/10; 4/16] END ..........C=1, gamma=0.0001;, score=0.333 total time=   0.0s\n",
      "[CV 9/10; 4/16] START C=1, gamma=0.0001.........................................\n",
      "[CV 9/10; 4/16] END ..........C=1, gamma=0.0001;, score=0.333 total time=   0.0s\n",
      "[CV 10/10; 4/16] START C=1, gamma=0.0001........................................\n",
      "[CV 10/10; 4/16] END .........C=1, gamma=0.0001;, score=0.333 total time=   0.0s\n",
      "[CV 1/10; 5/16] START C=10, gamma=0.1...........................................\n",
      "[CV 1/10; 5/16] END ............C=10, gamma=0.1;, score=1.000 total time=   0.0s\n",
      "[CV 2/10; 5/16] START C=10, gamma=0.1...........................................\n",
      "[CV 2/10; 5/16] END ............C=10, gamma=0.1;, score=1.000 total time=   0.0s\n",
      "[CV 3/10; 5/16] START C=10, gamma=0.1...........................................\n",
      "[CV 3/10; 5/16] END ............C=10, gamma=0.1;, score=0.833 total time=   0.0s\n",
      "[CV 4/10; 5/16] START C=10, gamma=0.1...........................................\n",
      "[CV 4/10; 5/16] END ............C=10, gamma=0.1;, score=0.917 total time=   0.0s\n",
      "[CV 5/10; 5/16] START C=10, gamma=0.1...........................................\n",
      "[CV 5/10; 5/16] END ............C=10, gamma=0.1;, score=1.000 total time=   0.0s\n",
      "[CV 6/10; 5/16] START C=10, gamma=0.1...........................................\n",
      "[CV 6/10; 5/16] END ............C=10, gamma=0.1;, score=1.000 total time=   0.0s\n",
      "[CV 7/10; 5/16] START C=10, gamma=0.1...........................................\n",
      "[CV 7/10; 5/16] END ............C=10, gamma=0.1;, score=1.000 total time=   0.0s\n",
      "[CV 8/10; 5/16] START C=10, gamma=0.1...........................................\n",
      "[CV 8/10; 5/16] END ............C=10, gamma=0.1;, score=1.000 total time=   0.0s\n",
      "[CV 9/10; 5/16] START C=10, gamma=0.1...........................................\n",
      "[CV 9/10; 5/16] END ............C=10, gamma=0.1;, score=1.000 total time=   0.0s\n",
      "[CV 10/10; 5/16] START C=10, gamma=0.1..........................................\n",
      "[CV 10/10; 5/16] END ...........C=10, gamma=0.1;, score=1.000 total time=   0.0s\n",
      "[CV 1/10; 6/16] START C=10, gamma=0.01..........................................\n",
      "[CV 1/10; 6/16] END ...........C=10, gamma=0.01;, score=1.000 total time=   0.0s\n",
      "[CV 2/10; 6/16] START C=10, gamma=0.01..........................................\n",
      "[CV 2/10; 6/16] END ...........C=10, gamma=0.01;, score=1.000 total time=   0.0s\n",
      "[CV 3/10; 6/16] START C=10, gamma=0.01..........................................\n",
      "[CV 3/10; 6/16] END ...........C=10, gamma=0.01;, score=0.833 total time=   0.0s\n",
      "[CV 4/10; 6/16] START C=10, gamma=0.01..........................................\n",
      "[CV 4/10; 6/16] END ...........C=10, gamma=0.01;, score=0.917 total time=   0.0s\n",
      "[CV 5/10; 6/16] START C=10, gamma=0.01..........................................\n",
      "[CV 5/10; 6/16] END ...........C=10, gamma=0.01;, score=1.000 total time=   0.0s\n",
      "[CV 6/10; 6/16] START C=10, gamma=0.01..........................................\n",
      "[CV 6/10; 6/16] END ...........C=10, gamma=0.01;, score=1.000 total time=   0.0s\n",
      "[CV 7/10; 6/16] START C=10, gamma=0.01..........................................\n",
      "[CV 7/10; 6/16] END ...........C=10, gamma=0.01;, score=1.000 total time=   0.0s\n",
      "[CV 8/10; 6/16] START C=10, gamma=0.01..........................................\n",
      "[CV 8/10; 6/16] END ...........C=10, gamma=0.01;, score=1.000 total time=   0.0s\n",
      "[CV 9/10; 6/16] START C=10, gamma=0.01..........................................\n",
      "[CV 9/10; 6/16] END ...........C=10, gamma=0.01;, score=1.000 total time=   0.0s\n",
      "[CV 10/10; 6/16] START C=10, gamma=0.01.........................................\n",
      "[CV 10/10; 6/16] END ..........C=10, gamma=0.01;, score=1.000 total time=   0.0s\n",
      "[CV 1/10; 7/16] START C=10, gamma=0.001.........................................\n",
      "[CV 1/10; 7/16] END ..........C=10, gamma=0.001;, score=0.833 total time=   0.0s\n",
      "[CV 2/10; 7/16] START C=10, gamma=0.001.........................................\n",
      "[CV 2/10; 7/16] END ..........C=10, gamma=0.001;, score=1.000 total time=   0.0s\n",
      "[CV 3/10; 7/16] START C=10, gamma=0.001.........................................\n",
      "[CV 3/10; 7/16] END ..........C=10, gamma=0.001;, score=0.833 total time=   0.0s\n",
      "[CV 4/10; 7/16] START C=10, gamma=0.001.........................................\n",
      "[CV 4/10; 7/16] END ..........C=10, gamma=0.001;, score=0.917 total time=   0.0s\n",
      "[CV 5/10; 7/16] START C=10, gamma=0.001.........................................\n",
      "[CV 5/10; 7/16] END ..........C=10, gamma=0.001;, score=1.000 total time=   0.0s\n",
      "[CV 6/10; 7/16] START C=10, gamma=0.001.........................................\n",
      "[CV 6/10; 7/16] END ..........C=10, gamma=0.001;, score=1.000 total time=   0.0s\n",
      "[CV 7/10; 7/16] START C=10, gamma=0.001.........................................\n",
      "[CV 7/10; 7/16] END ..........C=10, gamma=0.001;, score=0.917 total time=   0.0s\n",
      "[CV 8/10; 7/16] START C=10, gamma=0.001.........................................\n",
      "[CV 8/10; 7/16] END ..........C=10, gamma=0.001;, score=1.000 total time=   0.0s\n",
      "[CV 9/10; 7/16] START C=10, gamma=0.001.........................................\n",
      "[CV 9/10; 7/16] END ..........C=10, gamma=0.001;, score=0.917 total time=   0.0s\n",
      "[CV 10/10; 7/16] START C=10, gamma=0.001........................................\n",
      "[CV 10/10; 7/16] END .........C=10, gamma=0.001;, score=1.000 total time=   0.0s\n",
      "[CV 1/10; 8/16] START C=10, gamma=0.0001........................................\n",
      "[CV 1/10; 8/16] END .........C=10, gamma=0.0001;, score=0.833 total time=   0.0s\n",
      "[CV 2/10; 8/16] START C=10, gamma=0.0001........................................\n",
      "[CV 2/10; 8/16] END .........C=10, gamma=0.0001;, score=0.667 total time=   0.0s\n",
      "[CV 3/10; 8/16] START C=10, gamma=0.0001........................................\n",
      "[CV 3/10; 8/16] END .........C=10, gamma=0.0001;, score=0.667 total time=   0.0s\n",
      "[CV 4/10; 8/16] START C=10, gamma=0.0001........................................\n",
      "[CV 4/10; 8/16] END .........C=10, gamma=0.0001;, score=0.667 total time=   0.0s\n",
      "[CV 5/10; 8/16] START C=10, gamma=0.0001........................................\n",
      "[CV 5/10; 8/16] END .........C=10, gamma=0.0001;, score=0.667 total time=   0.0s\n",
      "[CV 6/10; 8/16] START C=10, gamma=0.0001........................................\n",
      "[CV 6/10; 8/16] END .........C=10, gamma=0.0001;, score=0.667 total time=   0.0s\n",
      "[CV 7/10; 8/16] START C=10, gamma=0.0001........................................\n",
      "[CV 7/10; 8/16] END .........C=10, gamma=0.0001;, score=0.667 total time=   0.0s\n",
      "[CV 8/10; 8/16] START C=10, gamma=0.0001........................................\n",
      "[CV 8/10; 8/16] END .........C=10, gamma=0.0001;, score=0.667 total time=   0.0s\n",
      "[CV 9/10; 8/16] START C=10, gamma=0.0001........................................\n",
      "[CV 9/10; 8/16] END .........C=10, gamma=0.0001;, score=0.667 total time=   0.0s\n",
      "[CV 10/10; 8/16] START C=10, gamma=0.0001.......................................\n",
      "[CV 10/10; 8/16] END ........C=10, gamma=0.0001;, score=0.667 total time=   0.0s\n",
      "[CV 1/10; 9/16] START C=100, gamma=0.1..........................................\n",
      "[CV 1/10; 9/16] END ...........C=100, gamma=0.1;, score=1.000 total time=   0.0s\n",
      "[CV 2/10; 9/16] START C=100, gamma=0.1..........................................\n",
      "[CV 2/10; 9/16] END ...........C=100, gamma=0.1;, score=1.000 total time=   0.0s\n",
      "[CV 3/10; 9/16] START C=100, gamma=0.1..........................................\n",
      "[CV 3/10; 9/16] END ...........C=100, gamma=0.1;, score=0.833 total time=   0.0s\n",
      "[CV 4/10; 9/16] START C=100, gamma=0.1..........................................\n",
      "[CV 4/10; 9/16] END ...........C=100, gamma=0.1;, score=0.917 total time=   0.0s\n",
      "[CV 5/10; 9/16] START C=100, gamma=0.1..........................................\n",
      "[CV 5/10; 9/16] END ...........C=100, gamma=0.1;, score=1.000 total time=   0.0s\n",
      "[CV 6/10; 9/16] START C=100, gamma=0.1..........................................\n",
      "[CV 6/10; 9/16] END ...........C=100, gamma=0.1;, score=0.917 total time=   0.0s\n",
      "[CV 7/10; 9/16] START C=100, gamma=0.1..........................................\n",
      "[CV 7/10; 9/16] END ...........C=100, gamma=0.1;, score=1.000 total time=   0.0s\n",
      "[CV 8/10; 9/16] START C=100, gamma=0.1..........................................\n",
      "[CV 8/10; 9/16] END ...........C=100, gamma=0.1;, score=1.000 total time=   0.0s\n",
      "[CV 9/10; 9/16] START C=100, gamma=0.1..........................................\n",
      "[CV 9/10; 9/16] END ...........C=100, gamma=0.1;, score=1.000 total time=   0.0s\n",
      "[CV 10/10; 9/16] START C=100, gamma=0.1.........................................\n",
      "[CV 10/10; 9/16] END ..........C=100, gamma=0.1;, score=1.000 total time=   0.0s\n",
      "[CV 1/10; 10/16] START C=100, gamma=0.01........................................\n",
      "[CV 1/10; 10/16] END .........C=100, gamma=0.01;, score=1.000 total time=   0.0s\n",
      "[CV 2/10; 10/16] START C=100, gamma=0.01........................................\n",
      "[CV 2/10; 10/16] END .........C=100, gamma=0.01;, score=1.000 total time=   0.0s\n",
      "[CV 3/10; 10/16] START C=100, gamma=0.01........................................\n",
      "[CV 3/10; 10/16] END .........C=100, gamma=0.01;, score=0.833 total time=   0.0s\n",
      "[CV 4/10; 10/16] START C=100, gamma=0.01........................................\n",
      "[CV 4/10; 10/16] END .........C=100, gamma=0.01;, score=1.000 total time=   0.0s\n",
      "[CV 5/10; 10/16] START C=100, gamma=0.01........................................\n",
      "[CV 5/10; 10/16] END .........C=100, gamma=0.01;, score=1.000 total time=   0.0s\n",
      "[CV 6/10; 10/16] START C=100, gamma=0.01........................................\n",
      "[CV 6/10; 10/16] END .........C=100, gamma=0.01;, score=1.000 total time=   0.0s\n",
      "[CV 7/10; 10/16] START C=100, gamma=0.01........................................\n",
      "[CV 7/10; 10/16] END .........C=100, gamma=0.01;, score=1.000 total time=   0.0s\n",
      "[CV 8/10; 10/16] START C=100, gamma=0.01........................................\n",
      "[CV 8/10; 10/16] END .........C=100, gamma=0.01;, score=1.000 total time=   0.0s\n",
      "[CV 9/10; 10/16] START C=100, gamma=0.01........................................\n",
      "[CV 9/10; 10/16] END .........C=100, gamma=0.01;, score=1.000 total time=   0.0s\n",
      "[CV 10/10; 10/16] START C=100, gamma=0.01.......................................\n",
      "[CV 10/10; 10/16] END ........C=100, gamma=0.01;, score=1.000 total time=   0.0s\n",
      "[CV 1/10; 11/16] START C=100, gamma=0.001.......................................\n",
      "[CV 1/10; 11/16] END ........C=100, gamma=0.001;, score=1.000 total time=   0.0s\n",
      "[CV 2/10; 11/16] START C=100, gamma=0.001.......................................\n",
      "[CV 2/10; 11/16] END ........C=100, gamma=0.001;, score=1.000 total time=   0.0s\n",
      "[CV 3/10; 11/16] START C=100, gamma=0.001.......................................\n",
      "[CV 3/10; 11/16] END ........C=100, gamma=0.001;, score=0.833 total time=   0.0s\n",
      "[CV 4/10; 11/16] START C=100, gamma=0.001.......................................\n",
      "[CV 4/10; 11/16] END ........C=100, gamma=0.001;, score=0.917 total time=   0.0s\n",
      "[CV 5/10; 11/16] START C=100, gamma=0.001.......................................\n",
      "[CV 5/10; 11/16] END ........C=100, gamma=0.001;, score=1.000 total time=   0.0s\n",
      "[CV 6/10; 11/16] START C=100, gamma=0.001.......................................\n",
      "[CV 6/10; 11/16] END ........C=100, gamma=0.001;, score=1.000 total time=   0.0s\n",
      "[CV 7/10; 11/16] START C=100, gamma=0.001.......................................\n",
      "[CV 7/10; 11/16] END ........C=100, gamma=0.001;, score=1.000 total time=   0.0s\n",
      "[CV 8/10; 11/16] START C=100, gamma=0.001.......................................\n",
      "[CV 8/10; 11/16] END ........C=100, gamma=0.001;, score=1.000 total time=   0.0s\n",
      "[CV 9/10; 11/16] START C=100, gamma=0.001.......................................\n",
      "[CV 9/10; 11/16] END ........C=100, gamma=0.001;, score=1.000 total time=   0.0s\n",
      "[CV 10/10; 11/16] START C=100, gamma=0.001......................................\n",
      "[CV 10/10; 11/16] END .......C=100, gamma=0.001;, score=1.000 total time=   0.0s\n",
      "[CV 1/10; 12/16] START C=100, gamma=0.0001......................................\n",
      "[CV 1/10; 12/16] END .......C=100, gamma=0.0001;, score=0.833 total time=   0.0s\n",
      "[CV 2/10; 12/16] START C=100, gamma=0.0001......................................\n",
      "[CV 2/10; 12/16] END .......C=100, gamma=0.0001;, score=1.000 total time=   0.0s\n",
      "[CV 3/10; 12/16] START C=100, gamma=0.0001......................................\n",
      "[CV 3/10; 12/16] END .......C=100, gamma=0.0001;, score=0.833 total time=   0.0s\n",
      "[CV 4/10; 12/16] START C=100, gamma=0.0001......................................\n",
      "[CV 4/10; 12/16] END .......C=100, gamma=0.0001;, score=0.917 total time=   0.0s\n",
      "[CV 5/10; 12/16] START C=100, gamma=0.0001......................................\n",
      "[CV 5/10; 12/16] END .......C=100, gamma=0.0001;, score=1.000 total time=   0.0s\n",
      "[CV 6/10; 12/16] START C=100, gamma=0.0001......................................\n",
      "[CV 6/10; 12/16] END .......C=100, gamma=0.0001;, score=1.000 total time=   0.0s\n",
      "[CV 7/10; 12/16] START C=100, gamma=0.0001......................................\n",
      "[CV 7/10; 12/16] END .......C=100, gamma=0.0001;, score=0.917 total time=   0.0s\n",
      "[CV 8/10; 12/16] START C=100, gamma=0.0001......................................\n",
      "[CV 8/10; 12/16] END .......C=100, gamma=0.0001;, score=1.000 total time=   0.0s\n",
      "[CV 9/10; 12/16] START C=100, gamma=0.0001......................................\n",
      "[CV 9/10; 12/16] END .......C=100, gamma=0.0001;, score=0.917 total time=   0.0s\n",
      "[CV 10/10; 12/16] START C=100, gamma=0.0001.....................................\n",
      "[CV 10/10; 12/16] END ......C=100, gamma=0.0001;, score=1.000 total time=   0.0s\n",
      "[CV 1/10; 13/16] START C=1000, gamma=0.1........................................\n",
      "[CV 1/10; 13/16] END .........C=1000, gamma=0.1;, score=1.000 total time=   0.0s\n",
      "[CV 2/10; 13/16] START C=1000, gamma=0.1........................................\n",
      "[CV 2/10; 13/16] END .........C=1000, gamma=0.1;, score=1.000 total time=   0.0s\n",
      "[CV 3/10; 13/16] START C=1000, gamma=0.1........................................\n",
      "[CV 3/10; 13/16] END .........C=1000, gamma=0.1;, score=0.833 total time=   0.0s\n",
      "[CV 4/10; 13/16] START C=1000, gamma=0.1........................................\n",
      "[CV 4/10; 13/16] END .........C=1000, gamma=0.1;, score=0.917 total time=   0.0s\n",
      "[CV 5/10; 13/16] START C=1000, gamma=0.1........................................\n",
      "[CV 5/10; 13/16] END .........C=1000, gamma=0.1;, score=1.000 total time=   0.0s\n",
      "[CV 6/10; 13/16] START C=1000, gamma=0.1........................................\n",
      "[CV 6/10; 13/16] END .........C=1000, gamma=0.1;, score=0.917 total time=   0.0s\n",
      "[CV 7/10; 13/16] START C=1000, gamma=0.1........................................\n",
      "[CV 7/10; 13/16] END .........C=1000, gamma=0.1;, score=1.000 total time=   0.0s\n",
      "[CV 8/10; 13/16] START C=1000, gamma=0.1........................................\n",
      "[CV 8/10; 13/16] END .........C=1000, gamma=0.1;, score=1.000 total time=   0.0s\n",
      "[CV 9/10; 13/16] START C=1000, gamma=0.1........................................\n",
      "[CV 9/10; 13/16] END .........C=1000, gamma=0.1;, score=1.000 total time=   0.0s\n",
      "[CV 10/10; 13/16] START C=1000, gamma=0.1.......................................\n",
      "[CV 10/10; 13/16] END ........C=1000, gamma=0.1;, score=0.833 total time=   0.0s\n",
      "[CV 1/10; 14/16] START C=1000, gamma=0.01.......................................\n",
      "[CV 1/10; 14/16] END ........C=1000, gamma=0.01;, score=1.000 total time=   0.0s\n",
      "[CV 2/10; 14/16] START C=1000, gamma=0.01.......................................\n",
      "[CV 2/10; 14/16] END ........C=1000, gamma=0.01;, score=1.000 total time=   0.0s\n",
      "[CV 3/10; 14/16] START C=1000, gamma=0.01.......................................\n",
      "[CV 3/10; 14/16] END ........C=1000, gamma=0.01;, score=0.833 total time=   0.0s\n",
      "[CV 4/10; 14/16] START C=1000, gamma=0.01.......................................\n",
      "[CV 4/10; 14/16] END ........C=1000, gamma=0.01;, score=1.000 total time=   0.0s\n",
      "[CV 5/10; 14/16] START C=1000, gamma=0.01.......................................\n",
      "[CV 5/10; 14/16] END ........C=1000, gamma=0.01;, score=1.000 total time=   0.0s\n",
      "[CV 6/10; 14/16] START C=1000, gamma=0.01.......................................\n",
      "[CV 6/10; 14/16] END ........C=1000, gamma=0.01;, score=0.917 total time=   0.0s\n",
      "[CV 7/10; 14/16] START C=1000, gamma=0.01.......................................\n",
      "[CV 7/10; 14/16] END ........C=1000, gamma=0.01;, score=1.000 total time=   0.0s\n",
      "[CV 8/10; 14/16] START C=1000, gamma=0.01.......................................\n",
      "[CV 8/10; 14/16] END ........C=1000, gamma=0.01;, score=1.000 total time=   0.0s\n",
      "[CV 9/10; 14/16] START C=1000, gamma=0.01.......................................\n",
      "[CV 9/10; 14/16] END ........C=1000, gamma=0.01;, score=1.000 total time=   0.0s\n",
      "[CV 10/10; 14/16] START C=1000, gamma=0.01......................................\n",
      "[CV 10/10; 14/16] END .......C=1000, gamma=0.01;, score=1.000 total time=   0.0s\n",
      "[CV 1/10; 15/16] START C=1000, gamma=0.001......................................\n",
      "[CV 1/10; 15/16] END .......C=1000, gamma=0.001;, score=1.000 total time=   0.0s\n",
      "[CV 2/10; 15/16] START C=1000, gamma=0.001......................................\n",
      "[CV 2/10; 15/16] END .......C=1000, gamma=0.001;, score=1.000 total time=   0.0s\n",
      "[CV 3/10; 15/16] START C=1000, gamma=0.001......................................\n",
      "[CV 3/10; 15/16] END .......C=1000, gamma=0.001;, score=0.833 total time=   0.0s\n",
      "[CV 4/10; 15/16] START C=1000, gamma=0.001......................................\n",
      "[CV 4/10; 15/16] END .......C=1000, gamma=0.001;, score=1.000 total time=   0.0s\n",
      "[CV 5/10; 15/16] START C=1000, gamma=0.001......................................\n",
      "[CV 5/10; 15/16] END .......C=1000, gamma=0.001;, score=1.000 total time=   0.0s\n",
      "[CV 6/10; 15/16] START C=1000, gamma=0.001......................................\n",
      "[CV 6/10; 15/16] END .......C=1000, gamma=0.001;, score=1.000 total time=   0.0s\n",
      "[CV 7/10; 15/16] START C=1000, gamma=0.001......................................\n",
      "[CV 7/10; 15/16] END .......C=1000, gamma=0.001;, score=1.000 total time=   0.0s\n",
      "[CV 8/10; 15/16] START C=1000, gamma=0.001......................................\n",
      "[CV 8/10; 15/16] END .......C=1000, gamma=0.001;, score=1.000 total time=   0.0s\n",
      "[CV 9/10; 15/16] START C=1000, gamma=0.001......................................\n",
      "[CV 9/10; 15/16] END .......C=1000, gamma=0.001;, score=1.000 total time=   0.0s\n",
      "[CV 10/10; 15/16] START C=1000, gamma=0.001.....................................\n",
      "[CV 10/10; 15/16] END ......C=1000, gamma=0.001;, score=1.000 total time=   0.0s\n",
      "[CV 1/10; 16/16] START C=1000, gamma=0.0001.....................................\n",
      "[CV 1/10; 16/16] END ......C=1000, gamma=0.0001;, score=1.000 total time=   0.0s\n",
      "[CV 2/10; 16/16] START C=1000, gamma=0.0001.....................................\n",
      "[CV 2/10; 16/16] END ......C=1000, gamma=0.0001;, score=1.000 total time=   0.0s\n",
      "[CV 3/10; 16/16] START C=1000, gamma=0.0001.....................................\n",
      "[CV 3/10; 16/16] END ......C=1000, gamma=0.0001;, score=0.833 total time=   0.0s\n",
      "[CV 4/10; 16/16] START C=1000, gamma=0.0001.....................................\n",
      "[CV 4/10; 16/16] END ......C=1000, gamma=0.0001;, score=0.917 total time=   0.0s\n",
      "[CV 5/10; 16/16] START C=1000, gamma=0.0001.....................................\n",
      "[CV 5/10; 16/16] END ......C=1000, gamma=0.0001;, score=1.000 total time=   0.0s\n",
      "[CV 6/10; 16/16] START C=1000, gamma=0.0001.....................................\n",
      "[CV 6/10; 16/16] END ......C=1000, gamma=0.0001;, score=1.000 total time=   0.0s\n",
      "[CV 7/10; 16/16] START C=1000, gamma=0.0001.....................................\n",
      "[CV 7/10; 16/16] END ......C=1000, gamma=0.0001;, score=1.000 total time=   0.0s\n",
      "[CV 8/10; 16/16] START C=1000, gamma=0.0001.....................................\n",
      "[CV 8/10; 16/16] END ......C=1000, gamma=0.0001;, score=1.000 total time=   0.0s\n",
      "[CV 9/10; 16/16] START C=1000, gamma=0.0001.....................................\n",
      "[CV 9/10; 16/16] END ......C=1000, gamma=0.0001;, score=1.000 total time=   0.0s\n",
      "[CV 10/10; 16/16] START C=1000, gamma=0.0001....................................\n",
      "[CV 10/10; 16/16] END .....C=1000, gamma=0.0001;, score=1.000 total time=   0.0s\n"
     ]
    },
    {
     "data": {
      "text/html": [
       "<style>#sk-container-id-1 {color: black;}#sk-container-id-1 pre{padding: 0;}#sk-container-id-1 div.sk-toggleable {background-color: white;}#sk-container-id-1 label.sk-toggleable__label {cursor: pointer;display: block;width: 100%;margin-bottom: 0;padding: 0.3em;box-sizing: border-box;text-align: center;}#sk-container-id-1 label.sk-toggleable__label-arrow:before {content: \"▸\";float: left;margin-right: 0.25em;color: #696969;}#sk-container-id-1 label.sk-toggleable__label-arrow:hover:before {color: black;}#sk-container-id-1 div.sk-estimator:hover label.sk-toggleable__label-arrow:before {color: black;}#sk-container-id-1 div.sk-toggleable__content {max-height: 0;max-width: 0;overflow: hidden;text-align: left;background-color: #f0f8ff;}#sk-container-id-1 div.sk-toggleable__content pre {margin: 0.2em;color: black;border-radius: 0.25em;background-color: #f0f8ff;}#sk-container-id-1 input.sk-toggleable__control:checked~div.sk-toggleable__content {max-height: 200px;max-width: 100%;overflow: auto;}#sk-container-id-1 input.sk-toggleable__control:checked~label.sk-toggleable__label-arrow:before {content: \"▾\";}#sk-container-id-1 div.sk-estimator input.sk-toggleable__control:checked~label.sk-toggleable__label {background-color: #d4ebff;}#sk-container-id-1 div.sk-label input.sk-toggleable__control:checked~label.sk-toggleable__label {background-color: #d4ebff;}#sk-container-id-1 input.sk-hidden--visually {border: 0;clip: rect(1px 1px 1px 1px);clip: rect(1px, 1px, 1px, 1px);height: 1px;margin: -1px;overflow: hidden;padding: 0;position: absolute;width: 1px;}#sk-container-id-1 div.sk-estimator {font-family: monospace;background-color: #f0f8ff;border: 1px dotted black;border-radius: 0.25em;box-sizing: border-box;margin-bottom: 0.5em;}#sk-container-id-1 div.sk-estimator:hover {background-color: #d4ebff;}#sk-container-id-1 div.sk-parallel-item::after {content: \"\";width: 100%;border-bottom: 1px solid gray;flex-grow: 1;}#sk-container-id-1 div.sk-label:hover label.sk-toggleable__label {background-color: #d4ebff;}#sk-container-id-1 div.sk-serial::before {content: \"\";position: absolute;border-left: 1px solid gray;box-sizing: border-box;top: 0;bottom: 0;left: 50%;z-index: 0;}#sk-container-id-1 div.sk-serial {display: flex;flex-direction: column;align-items: center;background-color: white;padding-right: 0.2em;padding-left: 0.2em;position: relative;}#sk-container-id-1 div.sk-item {position: relative;z-index: 1;}#sk-container-id-1 div.sk-parallel {display: flex;align-items: stretch;justify-content: center;background-color: white;position: relative;}#sk-container-id-1 div.sk-item::before, #sk-container-id-1 div.sk-parallel-item::before {content: \"\";position: absolute;border-left: 1px solid gray;box-sizing: border-box;top: 0;bottom: 0;left: 50%;z-index: -1;}#sk-container-id-1 div.sk-parallel-item {display: flex;flex-direction: column;z-index: 1;position: relative;background-color: white;}#sk-container-id-1 div.sk-parallel-item:first-child::after {align-self: flex-end;width: 50%;}#sk-container-id-1 div.sk-parallel-item:last-child::after {align-self: flex-start;width: 50%;}#sk-container-id-1 div.sk-parallel-item:only-child::after {width: 0;}#sk-container-id-1 div.sk-dashed-wrapped {border: 1px dashed gray;margin: 0 0.4em 0.5em 0.4em;box-sizing: border-box;padding-bottom: 0.4em;background-color: white;}#sk-container-id-1 div.sk-label label {font-family: monospace;font-weight: bold;display: inline-block;line-height: 1.2em;}#sk-container-id-1 div.sk-label-container {text-align: center;}#sk-container-id-1 div.sk-container {/* jupyter's `normalize.less` sets `[hidden] { display: none; }` but bootstrap.min.css set `[hidden] { display: none !important; }` so we also need the `!important` here to be able to override the default hidden behavior on the sphinx rendered scikit-learn.org. See: https://github.com/scikit-learn/scikit-learn/issues/21755 */display: inline-block !important;position: relative;}#sk-container-id-1 div.sk-text-repr-fallback {display: none;}</style><div id=\"sk-container-id-1\" class=\"sk-top-container\"><div class=\"sk-text-repr-fallback\"><pre>GridSearchCV(cv=10, estimator=SVC(C=10, gamma=10),\n",
       "             param_grid={&#x27;C&#x27;: (1, 10, 100, 1000),\n",
       "                         &#x27;gamma&#x27;: (0.1, 0.01, 0.001, 0.0001)},\n",
       "             verbose=10)</pre><b>In a Jupyter environment, please rerun this cell to show the HTML representation or trust the notebook. <br />On GitHub, the HTML representation is unable to render, please try loading this page with nbviewer.org.</b></div><div class=\"sk-container\" hidden><div class=\"sk-item sk-dashed-wrapped\"><div class=\"sk-label-container\"><div class=\"sk-label sk-toggleable\"><input class=\"sk-toggleable__control sk-hidden--visually\" id=\"sk-estimator-id-1\" type=\"checkbox\" ><label for=\"sk-estimator-id-1\" class=\"sk-toggleable__label sk-toggleable__label-arrow\">GridSearchCV</label><div class=\"sk-toggleable__content\"><pre>GridSearchCV(cv=10, estimator=SVC(C=10, gamma=10),\n",
       "             param_grid={&#x27;C&#x27;: (1, 10, 100, 1000),\n",
       "                         &#x27;gamma&#x27;: (0.1, 0.01, 0.001, 0.0001)},\n",
       "             verbose=10)</pre></div></div></div><div class=\"sk-parallel\"><div class=\"sk-parallel-item\"><div class=\"sk-item\"><div class=\"sk-label-container\"><div class=\"sk-label sk-toggleable\"><input class=\"sk-toggleable__control sk-hidden--visually\" id=\"sk-estimator-id-2\" type=\"checkbox\" ><label for=\"sk-estimator-id-2\" class=\"sk-toggleable__label sk-toggleable__label-arrow\">estimator: SVC</label><div class=\"sk-toggleable__content\"><pre>SVC(C=10, gamma=10)</pre></div></div></div><div class=\"sk-serial\"><div class=\"sk-item\"><div class=\"sk-estimator sk-toggleable\"><input class=\"sk-toggleable__control sk-hidden--visually\" id=\"sk-estimator-id-3\" type=\"checkbox\" ><label for=\"sk-estimator-id-3\" class=\"sk-toggleable__label sk-toggleable__label-arrow\">SVC</label><div class=\"sk-toggleable__content\"><pre>SVC(C=10, gamma=10)</pre></div></div></div></div></div></div></div></div></div></div>"
      ],
      "text/plain": [
       "GridSearchCV(cv=10, estimator=SVC(C=10, gamma=10),\n",
       "             param_grid={'C': (1, 10, 100, 1000),\n",
       "                         'gamma': (0.1, 0.01, 0.001, 0.0001)},\n",
       "             verbose=10)"
      ]
     },
     "execution_count": 37,
     "metadata": {},
     "output_type": "execute_result"
    }
   ],
   "source": [
    "from sklearn.model_selection import GridSearchCV\n",
    "param_grid = {'C':(1, 10, 100, 1000), 'gamma':(0.1, 0.01, 0.001, 0.0001)}\n",
    "grid_search = GridSearchCV(svc, param_grid, cv=10, verbose=10)\n",
    "grid_search.fit(X_train, y_train)\n"
   ]
  }
 ],
 "metadata": {
  "kernelspec": {
   "display_name": "Python 3",
   "language": "python",
   "name": "python3"
  },
  "language_info": {
   "codemirror_mode": {
    "name": "ipython",
    "version": 3
   },
   "file_extension": ".py",
   "mimetype": "text/x-python",
   "name": "python",
   "nbconvert_exporter": "python",
   "pygments_lexer": "ipython3",
   "version": "3.11.6"
  }
 },
 "nbformat": 4,
 "nbformat_minor": 2
}
