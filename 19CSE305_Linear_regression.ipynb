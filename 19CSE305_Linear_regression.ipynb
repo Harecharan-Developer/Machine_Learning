{
 "cells": [
  {
   "cell_type": "markdown",
   "metadata": {},
   "source": [
    "Task 1\n"
   ]
  },
  {
   "cell_type": "markdown",
   "metadata": {},
   "source": [
    "x - feature\n",
    "\n",
    "y - response variable\n",
    "\n",
    "x_mean=sum(x)/len(x)\n",
    "\n",
    "b1=summation 1 to n  (xi-x_mean)(yi-y_mean)/ summation 1 to n (xi-x_mean)2\n",
    "or\n",
    "b1 = sum of product of deviation of x and y / sum of product of x**2\n",
    "b0= mean value of Y - mean of x *b1\n",
    "\n",
    "\n",
    "f(x) = B0+B1*x\n",
    "\n",
    "yi = f(xi) + Ei\n",
    "\n",
    "Ei = yi - f(xi)\n",
    "\n",
    "Ei = yi -(B0+B1*xi)\n",
    "\n",
    "B0 = mean(y) - B1*mean(x)\n",
    "\n",
    "Sxy -> sum of cross deviations of x and y\n",
    "\n",
    "Sxx -> sum of squared deviation of x \n",
    "\n",
    "Predicted value of y yi' = B0+B1*(xi)\n",
    "\n",
    "plot x and y using scatter plot and x and y' in a line plot\n",
    "\n",
    "calulate MAE\n",
    "\n",
    "calculate MSE\n",
    "\n",
    "calculate RMSE"
   ]
  },
  {
   "cell_type": "code",
   "execution_count": 2,
   "metadata": {},
   "outputs": [],
   "source": [
    "import matplotlib.pyplot as plt\n"
   ]
  },
  {
   "cell_type": "code",
   "execution_count": 3,
   "metadata": {},
   "outputs": [
    {
     "data": {
      "image/png": "[encoded data removed]",
      "text/plain": [
       "<Figure size 640x480 with 1 Axes>"
      ]
     },
     "metadata": {},
     "output_type": "display_data"
    }
   ],
   "source": [
    "x=[i for i in range(0,10)]\n",
    "y=[1,3,2,5,7,8,8,9,10,12]\n",
    "\n",
    "x_mean=sum(x)/len(x)\n",
    "y_mean=sum(y)/len(y)\n",
    "\n",
    "b1_num=0 \n",
    "for i in range (len(x)):\n",
    "    b1_num+=(x[i]-x_mean)*(y[i]-y_mean)\n",
    "b1_den=0\n",
    "for i in range(len(x)):\n",
    "    b1_den+=((x[i]-x_mean)**2)\n",
    "b1=b1_num/b1_den\n",
    "\n",
    "b0=y_mean-(b1*x_mean)\n",
    "\n",
    "def fx(x):#concept wise only not needed for plotting linear regression line\n",
    "    return b0+b1*x\n",
    "\n",
    "e=[y[i]-fx(x[i]) for i in range (len(x))]#not needed forline plotting\n",
    "\n",
    "y_predicted=[b0+b1*x[i] for i in range(len(x))]\n",
    "\n",
    "\n",
    "\n",
    "plt.scatter(x,y,color='red')\n",
    "plt.plot(x,y_predicted,color='blue')\n",
    "plt.show()\n"
   ]
  },
  {
   "cell_type": "code",
   "execution_count": 4,
   "metadata": {},
   "outputs": [
    {
     "name": "stdout",
     "output_type": "stream",
     "text": [
      "1.1696969696969697\n",
      "1.2363636363636363\n"
     ]
    },
    {
     "data": {
      "text/plain": [
       "[-0.23636363636363633,\n",
       " 0.5939393939393938,\n",
       " -1.5757575757575757,\n",
       " 0.25454545454545485,\n",
       " 1.084848484848485,\n",
       " 0.915151515151515,\n",
       " -0.25454545454545396,\n",
       " -0.42424242424242387,\n",
       " -0.5939393939393938,\n",
       " 0.23636363636363633]"
      ]
     },
     "execution_count": 4,
     "metadata": {},
     "output_type": "execute_result"
    }
   ],
   "source": [
    "print(b1)\n",
    "print(b0)\n",
    "y_predicted\n",
    "e"
   ]
  }
 ],
 "metadata": {
  "kernelspec": {
   "display_name": "base",
   "language": "python",
   "name": "python3"
  },
  "language_info": {
   "codemirror_mode": {
    "name": "ipython",
    "version": 3
   },
   "file_extension": ".py",
   "mimetype": "text/x-python",
   "name": "python",
   "nbconvert_exporter": "python",
   "pygments_lexer": "ipython3",
   "version": "3.11.3"
  },
  "orig_nbformat": 4
 },
 "nbformat": 4,
 "nbformat_minor": 2
}
