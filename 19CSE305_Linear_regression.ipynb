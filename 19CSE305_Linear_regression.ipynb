{
 "cells": [
  {
   "cell_type": "markdown",
   "metadata": {},
   "source": [
    "Task 1\n"
   ]
  },
  {
   "cell_type": "markdown",
   "metadata": {},
   "source": [
    "x - feature\n",
    "\n",
    "y - response variable\n",
    "\n",
    "x_mean=sum(x)/len(x)\n",
    "\n",
    "b1=summation 1 to n  (xi-x_mean)(yi-y_mean)/ summation 1 to n (xi-x_mean)2\n",
    "or\n",
    "b1 = sum of product of deviation of x and y / sum of product of x**2\n",
    "b0= mean value of Y - mean of x *b1\n",
    "\n",
    "\n",
    "f(x) = B0+B1*x\n",
    "\n",
    "yi = f(xi) + Ei\n",
    "\n",
    "Ei = yi - f(xi)\n",
    "\n",
    "Ei = yi -(B0+B1*xi)\n",
    "\n",
    "B0 = mean(y) - B1*mean(x)\n",
    "\n",
    "Sxy -> sum of cross deviations of x and y\n",
    "\n",
    "Sxx -> sum of squared deviation of x \n",
    "\n",
    "Predicted value of y yi' = B0+B1*(xi)\n",
    "\n",
    "plot x and y using scatter plot and x and y' in a line plot\n",
    "\n",
    "calulate MAE\n",
    "\n",
    "calculate MSE\n",
    "\n",
    "calculate RMSE"
   ]
  },
  {
   "cell_type": "code",
   "execution_count": 16,
   "metadata": {},
   "outputs": [],
   "source": [
    "import matplotlib.pyplot as plt\n"
   ]
  },
  {
   "cell_type": "code",
   "execution_count": 17,
   "metadata": {},
   "outputs": [],
   "source": [
    "x = [-3, -2.5, -2, -1.5, -1, -0.5, 0, 0.5, 1, 1.5, 2, 2.5, 3, 3.5, 4, 4.5, 5, 5.5, 6, 6.5]\n",
    "y = [9.2, 6.7, 3.8, 1.5, 0.1, 0.3, 0.2, 0.9, 2.1, 3.7, 6.1, 9.4, 13.2, 17.5, 22.3, 27.6, 33.5, 40.1, 47.2, 54.9]\n"
   ]
  },
  {
   "cell_type": "code",
   "execution_count": 18,
   "metadata": {},
   "outputs": [
    {
     "data": {
      "image/png": "[encoded data removed]",
      "text/plain": [
       "<Figure size 640x480 with 1 Axes>"
      ]
     },
     "metadata": {},
     "output_type": "display_data"
    }
   ],
   "source": [
    "\n",
    "\n",
    "x_mean=sum(x)/len(x)\n",
    "y_mean=sum(y)/len(y)\n",
    "\n",
    "b1_num=0 \n",
    "for i in range (len(x)):\n",
    "    b1_num+=(x[i]-x_mean)*(y[i]-y_mean)\n",
    "b1_den=0\n",
    "for i in range(len(x)):\n",
    "    b1_den+=((x[i]-x_mean)**2)\n",
    "b1=b1_num/b1_den\n",
    "\n",
    "b0=y_mean-(b1*x_mean)\n",
    "\n",
    "def fx(x):#concept wise only not needed for plotting linear regression line\n",
    "    return b0+b1*x\n",
    "\n",
    "e=[y[i]-fx(x[i]) for i in range (len(x))]#not needed forline plotting\n",
    "\n",
    "y_predicted=[b0+b1*x[i] for i in range(len(x))]\n",
    "\n",
    "\n",
    "\n",
    "plt.scatter(x,y,color='red')\n",
    "plt.plot(x,y_predicted,color='blue')\n",
    "plt.show()\n"
   ]
  },
  {
   "cell_type": "code",
   "execution_count": 19,
   "metadata": {},
   "outputs": [
    {
     "name": "stdout",
     "output_type": "stream",
     "text": [
      "3.0\n",
      "3.0\n"
     ]
    },
    {
     "data": {
      "text/plain": [
       "[7.0, 1.0, -3.0, -5.0, -5.0, -3.0, 1.0, 7.0]"
      ]
     },
     "execution_count": 19,
     "metadata": {},
     "output_type": "execute_result"
    }
   ],
   "source": [
    "print(b1)\n",
    "print(b0)\n",
    "y_predicted\n",
    "e"
   ]
  }
 ],
 "metadata": {
  "kernelspec": {
   "display_name": "base",
   "language": "python",
   "name": "python3"
  },
  "language_info": {
   "codemirror_mode": {
    "name": "ipython",
    "version": 3
   },
   "file_extension": ".py",
   "mimetype": "text/x-python",
   "name": "python",
   "nbconvert_exporter": "python",
   "pygments_lexer": "ipython3",
   "version": "3.11.3"
  },
  "orig_nbformat": 4
 },
 "nbformat": 4,
 "nbformat_minor": 2
}
